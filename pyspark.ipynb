{
 "cells": [
  {
   "cell_type": "code",
   "execution_count": 4,
   "id": "33dd5b5d-4efb-412d-8e3a-1e717ce81f8c",
   "metadata": {},
   "outputs": [],
   "source": [
    "from pyspark.sql import SparkSession"
   ]
  },
  {
   "cell_type": "code",
   "execution_count": 5,
   "id": "291c3cc2-1124-4b51-80d0-8667e831c155",
   "metadata": {},
   "outputs": [],
   "source": [
    "spark = SparkSession.builder.appName(\"SparkAnalysis\").getOrCreate()"
   ]
  },
  {
   "cell_type": "code",
   "execution_count": 13,
   "id": "4ac0929b",
   "metadata": {
    "scrolled": false
   },
   "outputs": [],
   "source": [
    "data = spark.read.csv(\"C:/Users/aqila/reviews.sql\", header=True, inferSchema=True)"
   ]
  },
  {
   "cell_type": "code",
   "execution_count": 14,
   "id": "dc0d3555",
   "metadata": {},
   "outputs": [
    {
     "name": "stdout",
     "output_type": "stream",
     "text": [
      "+--------------------+------+----------+----------+\n",
      "|            UserName|Rating|ReviewText|ReviewDate|\n",
      "+--------------------+------+----------+----------+\n",
      "|         Gina Zepeda|     5|         -|         -|\n",
      "|  GOVIND RAM BABU .S|     5|         -|         -|\n",
      "|       Sofia Mascate|     5|         -|         -|\n",
      "|          Rene Auret|     5|         -|         -|\n",
      "|      Sonuraj Thakur|     5|         -|         -|\n",
      "|         Lorna Dunne|     5|         -|         -|\n",
      "|       SHEHNOOR KHAN|     5|         -|         -|\n",
      "|      Sherryann Hood|     5|         -|         -|\n",
      "|         Alaina Reed|     5|         -|         -|\n",
      "|               _Aziz|     5|         -|         -|\n",
      "|    Ashley Robertson|     5|         -|         -|\n",
      "|       Fatima Jaspal|     5|         -|         -|\n",
      "|       Glenn Schultz|     5|         -|         -|\n",
      "|MD Nawaz Sarif Nakib|     5|         -|         -|\n",
      "|       Sonia Kallner|     5|         -|         -|\n",
      "|         Krzysztof G|     5|         -|         -|\n",
      "|               Sujal|     5|         -|         -|\n",
      "|        Arhan Shakil|     5|         -|         -|\n",
      "|michael contrisciani|     5|         -|         -|\n",
      "|      Vijay Srinivas|     5|         -|         -|\n",
      "+--------------------+------+----------+----------+\n",
      "only showing top 20 rows\n",
      "\n"
     ]
    }
   ],
   "source": [
    "data.show()"
   ]
  },
  {
   "cell_type": "code",
   "execution_count": 15,
   "id": "b3a090c7",
   "metadata": {},
   "outputs": [
    {
     "name": "stdout",
     "output_type": "stream",
     "text": [
      "root\n",
      " |-- UserName: string (nullable = true)\n",
      " |-- Rating: integer (nullable = true)\n",
      " |-- ReviewText: string (nullable = true)\n",
      " |-- ReviewDate: string (nullable = true)\n",
      "\n"
     ]
    }
   ],
   "source": [
    "data.printSchema()"
   ]
  },
  {
   "cell_type": "code",
   "execution_count": 16,
   "id": "6e103abb",
   "metadata": {},
   "outputs": [
    {
     "name": "stdout",
     "output_type": "stream",
     "text": [
      "+-------+--------------------+------+----------+----------+\n",
      "|summary|            UserName|Rating|ReviewText|ReviewDate|\n",
      "+-------+--------------------+------+----------+----------+\n",
      "|  count|                  25|    25|        25|        25|\n",
      "|   mean|                NULL|   5.0|      NULL|      NULL|\n",
      "| stddev|                NULL|   0.0|      NULL|      NULL|\n",
      "|    min|         Alaina Reed|     5|         -|         -|\n",
      "|    max|michael contrisciani|     5|         -|         -|\n",
      "+-------+--------------------+------+----------+----------+\n",
      "\n"
     ]
    }
   ],
   "source": [
    "data.describe().show()"
   ]
  },
  {
   "cell_type": "code",
   "execution_count": 17,
   "id": "d16983e8",
   "metadata": {},
   "outputs": [
    {
     "name": "stdout",
     "output_type": "stream",
     "text": [
      "Average Rating: 5.0\n"
     ]
    }
   ],
   "source": [
    "# Calculate the average rating\n",
    "average_rating = data.agg({\"rating\": \"avg\"}).collect()[0][0]\n",
    "\n",
    "# Print the average rating\n",
    "print(\"Average Rating:\", average_rating)"
   ]
  },
  {
   "cell_type": "code",
   "execution_count": null,
   "id": "17cfdc52",
   "metadata": {},
   "outputs": [],
   "source": []
  }
 ],
 "metadata": {
  "kernelspec": {
   "display_name": "Python 3 (ipykernel)",
   "language": "python",
   "name": "python3"
  },
  "language_info": {
   "codemirror_mode": {
    "name": "ipython",
    "version": 3
   },
   "file_extension": ".py",
   "mimetype": "text/x-python",
   "name": "python",
   "nbconvert_exporter": "python",
   "pygments_lexer": "ipython3",
   "version": "3.11.5"
  }
 },
 "nbformat": 4,
 "nbformat_minor": 5
}
